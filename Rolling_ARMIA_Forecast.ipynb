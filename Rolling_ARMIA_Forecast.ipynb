{
 "cells": [
  {
   "cell_type": "code",
   "execution_count": 1,
   "metadata": {},
   "outputs": [],
   "source": [
    "import pandas as pd\n",
    "from pandas import datetime\n",
    "from matplotlib import pyplot\n",
    "from sklearn.metrics import mean_squared_error\n",
    " \n",
    "def parser(x):\n",
    "    return datetime.strptime('190'+x, '%Y-%m')"
   ]
  },
  {
   "cell_type": "code",
   "execution_count": 2,
   "metadata": {},
   "outputs": [
    {
     "name": "stderr",
     "output_type": "stream",
     "text": [
      "/opt/anaconda3/envs/forDA_kernel/lib/python3.7/site-packages/ipykernel_launcher.py:4: FutureWarning: Sorting because non-concatenation axis is not aligned. A future version\n",
      "of pandas will change to not sort by default.\n",
      "\n",
      "To accept the future behavior, pass 'sort=False'.\n",
      "\n",
      "To retain the current behavior and silence the warning, pass 'sort=True'.\n",
      "\n",
      "  after removing the cwd from sys.path.\n"
     ]
    },
    {
     "data": {
      "text/plain": [
       "0       6185.07\n",
       "1       6198.78\n",
       "2       6191.19\n",
       "3       5238.44\n",
       "4       5225.63\n",
       "         ...   \n",
       "2515     105.21\n",
       "2516     116.99\n",
       "2517     139.00\n",
       "2518     144.54\n",
       "2519     134.21\n",
       "Name: Close**, Length: 2520, dtype: float64"
      ]
     },
     "execution_count": 2,
     "metadata": {},
     "output_type": "execute_result"
    }
   ],
   "source": [
    "url = \"https://coinmarketcap.com/currencies/bitcoin/historical-data/?start=20130101&end=20200320\"\n",
    "data_for_rolling_arima = pd.read_html(url)\n",
    "# The scrapped data is a list. Converting the list to a dataframe \n",
    "data_for_rolling_arima = pd.concat(data_for_rolling_arima)\n",
    "data_for_rolling_arima = data_for_rolling_arima['Close**']\n",
    "data_for_rolling_arima"
   ]
  },
  {
   "cell_type": "code",
   "execution_count": 3,
   "metadata": {},
   "outputs": [
    {
     "data": {
      "text/plain": [
       "2016"
      ]
     },
     "execution_count": 3,
     "metadata": {},
     "output_type": "execute_result"
    }
   ],
   "source": [
    "split_point = int(len(data_for_rolling_arima)*0.8)\n",
    "split_point"
   ]
  },
  {
   "cell_type": "code",
   "execution_count": 4,
   "metadata": {},
   "outputs": [
    {
     "name": "stdout",
     "output_type": "stream",
     "text": [
      "0       6185.07\n",
      "1       6198.78\n",
      "2       6191.19\n",
      "3       5238.44\n",
      "4       5225.63\n",
      "         ...   \n",
      "2011     424.44\n",
      "2012     457.33\n",
      "2013     466.06\n",
      "2014     475.37\n",
      "2015     477.89\n",
      "Name: Close**, Length: 2016, dtype: float64\n",
      "2016    479.00\n",
      "2017    477.75\n",
      "2018    479.75\n",
      "2019    479.36\n",
      "2020    475.26\n",
      "         ...  \n",
      "2515    105.21\n",
      "2516    116.99\n",
      "2517    139.00\n",
      "2518    144.54\n",
      "2519    134.21\n",
      "Name: Close**, Length: 504, dtype: float64\n"
     ]
    }
   ],
   "source": [
    "data_for_rolling_arima_train = data_for_rolling_arima[:split_point]\n",
    "data_for_rolling_arima_test = data_for_rolling_arima[split_point:]\n",
    "print(data_for_rolling_arima_train)\n",
    "print(data_for_rolling_arima_test)"
   ]
  },
  {
   "cell_type": "code",
   "execution_count": 5,
   "metadata": {},
   "outputs": [
    {
     "name": "stdout",
     "output_type": "stream",
     "text": [
      "predicted=470.411852, expected=479.000000\n",
      "predicted=480.365644, expected=477.750000\n",
      "predicted=473.980982, expected=479.750000\n",
      "predicted=475.893912, expected=479.360000\n",
      "predicted=480.561805, expected=475.260000\n",
      "predicted=467.239184, expected=474.600000\n",
      "predicted=480.074229, expected=482.280000\n",
      "predicted=470.503278, expected=484.830000\n",
      "predicted=492.773398, expected=483.340000\n",
      "predicted=468.948258, expected=489.660000\n",
      "predicted=500.081527, expected=477.590000\n",
      "predicted=461.887737, expected=477.430000\n",
      "predicted=487.615100, expected=474.880000\n",
      "predicted=460.337341, expected=477.760000\n",
      "predicted=486.043911, expected=504.250000\n",
      "predicted=494.371641, expected=508.520000\n",
      "predicted=511.755080, expected=507.820000\n",
      "predicted=500.611749, expected=511.150000\n",
      "predicted=510.557712, expected=511.570000\n",
      "predicted=510.605048, expected=502.500000\n",
      "predicted=496.556920, expected=508.290000\n",
      "predicted=511.438161, expected=498.080000\n",
      "predicted=486.440055, expected=514.040000\n",
      "predicted=522.986286, expected=517.240000\n",
      "predicted=503.337070, expected=511.980000\n",
      "predicted=521.713533, expected=485.240000\n",
      "predicted=467.204521, expected=461.460000\n",
      "predicted=471.987527, expected=491.800000\n",
      "predicted=479.983971, expected=519.710000\n",
      "predicted=529.464762, expected=497.010000\n",
      "predicted=480.461798, expected=505.970000\n",
      "predicted=511.701108, expected=546.660000\n",
      "predicted=541.194215, expected=569.640000\n",
      "predicted=573.632199, expected=576.370000\n",
      "predicted=570.807635, expected=591.060000\n",
      "predicted=585.787092, expected=589.370000\n",
      "predicted=590.328418, expected=592.580000\n",
      "predicted=587.696504, expected=588.870000\n",
      "predicted=595.107467, expected=584.650000\n",
      "predicted=570.782751, expected=585.440000\n",
      "predicted=592.611480, expected=588.780000\n",
      "predicted=575.126741, expected=586.670000\n",
      "predicted=599.490349, expected=589.330000\n",
      "predicted=574.086448, expected=594.920000\n",
      "predicted=603.853178, expected=586.230000\n",
      "predicted=569.592332, expected=567.290000\n",
      "predicted=576.436663, expected=584.720000\n",
      "predicted=576.299038, expected=585.690000\n",
      "predicted=589.925193, expected=593.850000\n",
      "predicted=585.015105, expected=595.810000\n",
      "predicted=594.096407, expected=601.090000\n",
      "predicted=600.954940, expected=601.730000\n",
      "predicted=598.300899, expected=619.410000\n",
      "predicted=622.739411, expected=621.550000\n",
      "predicted=609.229794, expected=622.210000\n",
      "predicted=628.539416, expected=623.900000\n",
      "predicted=612.366878, expected=628.520000\n",
      "predicted=640.081837, expected=628.780000\n",
      "predicted=612.997011, expected=623.090000\n",
      "predicted=630.944147, expected=616.800000\n",
      "predicted=601.715886, expected=621.590000\n",
      "predicted=633.058763, expected=619.320000\n",
      "predicted=607.497329, expected=626.500000\n",
      "predicted=632.041690, expected=633.710000\n",
      "predicted=622.625155, expected=632.000000\n",
      "predicted=634.282070, expected=616.760000\n",
      "predicted=612.968619, expected=624.510000\n",
      "predicted=623.841900, expected=624.820000\n",
      "predicted=623.279993, expected=624.090000\n",
      "predicted=615.555636, expected=635.810000\n",
      "predicted=640.973286, expected=631.460000\n",
      "predicted=621.178476, expected=630.690000\n",
      "predicted=639.607432, expected=645.160000\n",
      "predicted=630.349461, expected=650.880000\n"
     ]
    },
    {
     "name": "stderr",
     "output_type": "stream",
     "text": [
      "/opt/anaconda3/envs/forDA_kernel/lib/python3.7/site-packages/statsmodels/base/model.py:492: HessianInversionWarning: Inverting hessian failed, no bse or cov_params available\n",
      "  'available', HessianInversionWarning)\n"
     ]
    },
    {
     "name": "stdout",
     "output_type": "stream",
     "text": [
      "predicted=660.177190, expected=640.810000\n",
      "predicted=624.821589, expected=639.800000\n",
      "predicted=651.874600, expected=602.720000\n",
      "predicted=585.861425, expected=596.550000\n",
      "predicted=606.482698, expected=597.260000\n",
      "predicted=583.386632, expected=581.140000\n",
      "predicted=586.807259, expected=566.340000\n",
      "predicted=556.803591, expected=582.360000\n",
      "predicted=585.291926, expected=593.980000\n",
      "predicted=589.750049, expected=602.270000\n",
      "predicted=598.212904, expected=594.990000\n",
      "predicted=594.841621, expected=594.150000\n",
      "predicted=586.170720, expected=598.070000\n",
      "predicted=605.144046, expected=607.960000\n",
      "predicted=595.386511, expected=610.860000\n",
      "predicted=619.209136, expected=592.190000\n",
      "predicted=574.530549, expected=592.940000\n",
      "predicted=606.257982, expected=577.360000\n",
      "predicted=560.292575, expected=600.160000\n",
      "predicted=614.314914, expected=586.950000\n",
      "predicted=566.817140, expected=633.020000\n",
      "predicted=646.753517, expected=653.150000\n",
      "predicted=638.579850, expected=649.160000\n",
      "predicted=657.403848, expected=656.140000\n",
      "predicted=646.247435, expected=654.970000\n",
      "predicted=656.275201, expected=653.700000\n",
      "predicted=651.056923, expected=659.260000\n",
      "predicted=655.239559, expected=641.610000\n",
      "predicted=643.896683, expected=667.600000\n",
      "predicted=658.314020, expected=660.620000\n",
      "predicted=667.631781, expected=630.230000\n",
      "predicted=613.726319, expected=623.680000\n",
      "predicted=636.940281, expected=615.330000\n",
      "predicted=596.830267, expected=568.180000\n",
      "predicted=580.108159, expected=577.060000\n",
      "predicted=558.782076, expected=571.240000\n",
      "predicted=583.840805, expected=583.420000\n",
      "predicted=567.736243, expected=571.590000\n",
      "predicted=579.726353, expected=525.140000\n",
      "predicted=509.230228, expected=520.220000\n",
      "predicted=527.431287, expected=524.580000\n",
      "predicted=517.442207, expected=491.770000\n",
      "predicted=490.028484, expected=485.720000\n",
      "predicted=481.691341, expected=446.180000\n",
      "predicted=437.077516, expected=446.260000\n",
      "predicted=453.096790, expected=448.900000\n",
      "predicted=437.484523, expected=448.060000\n",
      "predicted=455.952815, expected=447.250000\n",
      "predicted=428.100047, expected=443.970000\n",
      "predicted=455.829470, expected=440.670000\n",
      "predicted=424.265163, expected=441.460000\n",
      "predicted=455.356381, expected=438.890000\n",
      "predicted=419.359561, expected=454.430000\n",
      "predicted=464.765725, expected=449.460000\n",
      "predicted=433.761127, expected=440.170000\n",
      "predicted=449.505133, expected=438.820000\n",
      "predicted=428.790076, expected=428.960000\n",
      "predicted=429.905703, expected=433.480000\n",
      "predicted=428.092568, expected=436.400000\n",
      "predicted=432.959013, expected=437.760000\n",
      "predicted=440.537560, expected=449.380000\n",
      "predicted=440.236203, expected=457.760000\n",
      "predicted=463.813991, expected=447.640000\n",
      "predicted=431.544077, expected=447.210000\n",
      "predicted=459.598696, expected=440.290000\n",
      "predicted=423.252394, expected=436.390000\n",
      "predicted=450.170428, expected=458.600000\n",
      "predicted=439.989086, expected=461.450000\n",
      "predicted=473.174455, expected=500.460000\n",
      "predicted=486.616492, expected=491.300000\n",
      "predicted=499.730729, expected=487.920000\n",
      "predicted=476.209424, expected=495.770000\n",
      "predicted=500.231501, expected=498.170000\n",
      "predicted=491.790880, expected=501.570000\n",
      "predicted=501.365215, expected=479.640000\n",
      "predicted=476.609023, expected=495.960000\n",
      "predicted=491.826803, expected=527.400000\n",
      "predicted=532.044918, expected=515.590000\n",
      "predicted=503.631778, expected=458.790000\n",
      "predicted=462.759033, expected=414.060000\n",
      "predicted=399.506623, expected=421.120000\n",
      "predicted=435.277571, expected=420.950000\n",
      "predicted=404.606154, expected=365.180000\n",
      "predicted=370.995729, expected=442.730000\n",
      "predicted=431.076455, expected=453.090000\n",
      "predicted=461.268315, expected=449.420000\n",
      "predicted=439.208058, expected=460.500000\n",
      "predicted=464.504102, expected=461.910000\n",
      "predicted=452.366416, expected=447.530000\n"
     ]
    },
    {
     "name": "stderr",
     "output_type": "stream",
     "text": [
      "/opt/anaconda3/envs/forDA_kernel/lib/python3.7/site-packages/statsmodels/base/model.py:492: HessianInversionWarning: Inverting hessian failed, no bse or cov_params available\n",
      "  'available', HessianInversionWarning)\n"
     ]
    },
    {
     "name": "stdout",
     "output_type": "stream",
     "text": [
      "predicted=448.611062, expected=444.720000\n",
      "predicted=442.017605, expected=437.140000\n",
      "predicted=434.665887, expected=478.380000\n",
      "predicted=479.890762, expected=457.000000\n",
      "predicted=445.808325, expected=460.270000\n",
      "predicted=465.899593, expected=491.170000\n",
      "predicted=482.932174, expected=495.670000\n",
      "predicted=503.519827, expected=471.240000\n",
      "predicted=455.408185, expected=580.830000\n",
      "predicted=595.575565, expected=583.920000\n",
      "predicted=566.924519, expected=583.410000\n",
      "predicted=594.970508, expected=561.270000\n",
      "predicted=544.832652, expected=565.040000\n",
      "predicted=576.051152, expected=571.490000\n",
      "predicted=561.279153, expected=588.770000\n",
      "predicted=594.007818, expected=609.890000\n",
      "predicted=603.033548, expected=614.830000\n",
      "predicted=612.879317, expected=622.370000\n",
      "predicted=623.956653, expected=631.110000\n",
      "predicted=625.305958, expected=636.120000\n",
      "predicted=642.251032, expected=628.800000\n",
      "predicted=614.202564, expected=638.140000\n",
      "predicted=649.568645, expected=632.100000\n",
      "predicted=615.783022, expected=634.110000\n",
      "predicted=649.417913, expected=627.790000\n",
      "predicted=607.752705, expected=636.960000\n",
      "predicted=651.418550, expected=617.450000\n",
      "predicted=597.756657, expected=629.150000\n",
      "predicted=644.587660, expected=663.860000\n",
      "predicted=650.310860, expected=665.510000\n",
      "predicted=672.454135, expected=666.780000\n",
      "predicted=655.516135, expected=667.760000\n",
      "predicted=670.420309, expected=559.790000\n",
      "predicted=551.758339, expected=565.610000\n",
      "predicted=567.339074, expected=549.260000\n",
      "predicted=548.059918, expected=578.770000\n",
      "predicted=571.883022, expected=582.690000\n",
      "predicted=585.093925, expected=538.710000\n",
      "predicted=523.601633, expected=546.320000\n",
      "predicted=560.769536, expected=605.820000\n",
      "predicted=592.178847, expected=605.420000\n",
      "predicted=616.464042, expected=574.160000\n",
      "predicted=548.948804, expected=556.140000\n",
      "predicted=571.973861, expected=623.030000\n",
      "predicted=612.356768, expected=626.600000\n",
      "predicted=639.364610, expected=626.270000\n",
      "predicted=606.025053, expected=616.630000\n",
      "predicted=620.990890, expected=650.920000\n",
      "predicted=646.327580, expected=661.990000\n",
      "predicted=669.556849, expected=605.240000\n",
      "predicted=595.848245, expected=651.720000\n",
      "predicted=649.069510, expected=672.170000\n",
      "predicted=670.680692, expected=681.030000\n",
      "predicted=679.125287, expected=682.900000\n",
      "predicted=688.338867, expected=673.920000\n",
      "predicted=660.501905, expected=712.400000\n",
      "predicted=721.511253, expected=781.550000\n",
      "predicted=770.415530, expected=811.910000\n",
      "predicted=825.962064, expected=827.960000\n",
      "predicted=810.846163, expected=823.830000\n",
      "predicted=834.458682, expected=825.370000\n",
      "predicted=810.185793, expected=832.580000\n",
      "predicted=847.194028, expected=829.920000\n",
      "predicted=816.530790, expected=819.030000\n",
      "predicted=825.299619, expected=826.000000\n",
      "predicted=815.108409, expected=812.510000\n",
      "predicted=816.504701, expected=771.390000\n",
      "predicted=766.680942, expected=885.280000\n",
      "predicted=892.530004, expected=853.610000\n",
      "predicted=844.424465, expected=797.070000\n",
      "predicted=789.197714, expected=822.040000\n",
      "predicted=828.039158, expected=845.590000\n",
      "predicted=842.186927, expected=863.910000\n",
      "predicted=872.092376, expected=870.200000\n",
      "predicted=850.788475, expected=870.960000\n",
      "predicted=880.265289, expected=840.000000\n",
      "predicted=825.038412, expected=814.640000\n",
      "predicted=832.724659, expected=835.630000\n",
      "predicted=818.626769, expected=860.900000\n",
      "predicted=870.094560, expected=833.270000\n",
      "predicted=812.268222, expected=841.200000\n"
     ]
    },
    {
     "name": "stderr",
     "output_type": "stream",
     "text": [
      "/opt/anaconda3/envs/forDA_kernel/lib/python3.7/site-packages/statsmodels/base/model.py:492: HessianInversionWarning: Inverting hessian failed, no bse or cov_params available\n",
      "  'available', HessianInversionWarning)\n"
     ]
    },
    {
     "name": "stdout",
     "output_type": "stream",
     "text": [
      "predicted=856.349993, expected=863.220000\n",
      "predicted=855.197769, expected=913.950000\n",
      "predicted=922.552167, expected=868.480000\n",
      "predicted=850.342858, expected=846.860000\n",
      "predicted=847.316542, expected=842.720000\n",
      "predicted=844.439878, expected=802.000000\n",
      "predicted=800.644720, expected=953.290000\n",
      "predicted=965.240512, expected=933.530000\n",
      "predicted=907.133657, expected=859.510000\n",
      "predicted=867.803841, expected=818.720000\n",
      "predicted=803.155159, expected=802.390000\n",
      "predicted=828.690834, expected=771.400000\n",
      "predicted=745.541638, expected=754.010000\n",
      "predicted=762.951456, expected=756.130000\n",
      "predicted=731.810855, expected=745.050000\n",
      "predicted=765.896789, expected=727.830000\n",
      "predicted=715.533355, expected=735.070000\n",
      "predicted=741.600206, expected=761.980000\n",
      "predicted=745.335196, expected=682.210000\n",
      "predicted=677.474416, expected=665.580000\n",
      "predicted=671.639260, expected=673.410000\n",
      "predicted=670.804310, expected=617.180000\n",
      "predicted=616.659649, expected=605.660000\n",
      "predicted=584.882033, expected=625.320000\n",
      "predicted=638.255218, expected=691.960000\n",
      "predicted=683.131708, expected=522.700000\n",
      "predicted=525.942252, expected=682.120000\n",
      "predicted=674.522316, expected=705.970000\n",
      "predicted=707.773017, expected=876.120000\n",
      "predicted=877.403474, expected=872.600000\n",
      "predicted=871.287534, expected=892.580000\n",
      "predicted=888.173314, expected=873.260000\n",
      "predicted=871.367439, expected=878.480000\n",
      "predicted=878.454919, expected=988.510000\n",
      "predicted=997.636554, expected=893.190000\n",
      "predicted=876.765487, expected=795.870000\n",
      "predicted=796.381050, expected=698.230000\n"
     ]
    },
    {
     "name": "stderr",
     "output_type": "stream",
     "text": [
      "/opt/anaconda3/envs/forDA_kernel/lib/python3.7/site-packages/statsmodels/base/model.py:492: HessianInversionWarning: Inverting hessian failed, no bse or cov_params available\n",
      "  'available', HessianInversionWarning)\n"
     ]
    },
    {
     "name": "stdout",
     "output_type": "stream",
     "text": [
      "predicted=715.842125, expected=829.450000\n"
     ]
    },
    {
     "name": "stderr",
     "output_type": "stream",
     "text": [
      "/opt/anaconda3/envs/forDA_kernel/lib/python3.7/site-packages/statsmodels/base/model.py:492: HessianInversionWarning: Inverting hessian failed, no bse or cov_params available\n",
      "  'available', HessianInversionWarning)\n"
     ]
    },
    {
     "name": "stdout",
     "output_type": "stream",
     "text": [
      "predicted=821.539467, expected=1045.110000\n"
     ]
    },
    {
     "name": "stderr",
     "output_type": "stream",
     "text": [
      "/opt/anaconda3/envs/forDA_kernel/lib/python3.7/site-packages/statsmodels/base/model.py:492: HessianInversionWarning: Inverting hessian failed, no bse or cov_params available\n",
      "  'available', HessianInversionWarning)\n"
     ]
    },
    {
     "name": "stdout",
     "output_type": "stream",
     "text": [
      "predicted=1012.071024, expected=1151.170000\n",
      "predicted=1146.828052, expected=1078.280000\n",
      "predicted=1054.480150, expected=1043.330000\n",
      "predicted=1054.602679, expected=955.850000\n",
      "predicted=961.545626, expected=1129.430000\n",
      "predicted=1148.501008, expected=1131.970000\n",
      "predicted=1106.327314, expected=1031.950000\n"
     ]
    },
    {
     "name": "stderr",
     "output_type": "stream",
     "text": [
      "/opt/anaconda3/envs/forDA_kernel/lib/python3.7/site-packages/statsmodels/base/model.py:492: HessianInversionWarning: Inverting hessian failed, no bse or cov_params available\n",
      "  'available', HessianInversionWarning)\n"
     ]
    },
    {
     "name": "stdout",
     "output_type": "stream",
     "text": [
      "predicted=1055.555107, expected=1001.960000\n",
      "predicted=1017.725381, expected=928.100000\n",
      "predicted=939.294361, expected=799.110000\n",
      "predicted=801.900900, expected=774.250000\n",
      "predicted=751.788282, expected=797.820000\n",
      "predicted=775.802514, expected=771.440000\n",
      "predicted=767.102781, expected=722.430000\n",
      "predicted=724.271213, expected=590.830000\n",
      "predicted=563.012854, expected=584.610000\n",
      "predicted=591.311194, expected=703.560000\n",
      "predicted=687.602837, expected=492.110000\n",
      "predicted=495.820180, expected=440.220000\n",
      "predicted=433.270463, expected=417.950000\n",
      "predicted=418.382140, expected=420.200000\n",
      "predicted=410.341496, expected=407.370000\n",
      "predicted=401.580143, expected=360.330000\n",
      "predicted=356.615814, expected=342.440000\n",
      "predicted=340.020779, expected=326.620000\n",
      "predicted=326.185025, expected=339.110000\n",
      "predicted=329.209097, expected=338.110000\n",
      "predicted=337.305435, expected=296.410000\n",
      "predicted=284.848554, expected=262.500000\n",
      "predicted=268.863510, expected=245.240000\n",
      "predicted=234.198247, expected=229.100000\n",
      "predicted=232.098392, expected=215.050000\n",
      "predicted=200.096847, expected=206.220000\n",
      "predicted=211.500315, expected=206.180000\n",
      "predicted=197.587080, expected=204.000000\n",
      "predicted=207.793612, expected=199.970000\n",
      "predicted=188.895228, expected=204.390000\n",
      "predicted=203.971034, expected=198.550000\n",
      "predicted=193.329430, expected=196.440000\n",
      "predicted=196.631330, expected=177.320000\n",
      "predicted=173.466027, expected=186.690000\n",
      "predicted=181.282273, expected=198.230000\n",
      "predicted=197.902375, expected=213.620000\n",
      "predicted=207.921118, expected=193.760000\n",
      "predicted=195.722390, expected=182.210000\n",
      "predicted=172.522181, expected=174.610000\n",
      "predicted=178.304157, expected=172.420000\n",
      "predicted=162.441910, expected=155.960000\n"
     ]
    },
    {
     "name": "stderr",
     "output_type": "stream",
     "text": [
      "/opt/anaconda3/envs/forDA_kernel/lib/python3.7/site-packages/statsmodels/base/model.py:492: HessianInversionWarning: Inverting hessian failed, no bse or cov_params available\n",
      "  'available', HessianInversionWarning)\n"
     ]
    },
    {
     "name": "stdout",
     "output_type": "stream",
     "text": [
      "predicted=161.006032, expected=146.250000\n",
      "predicted=135.178702, expected=142.550000\n",
      "predicted=147.184444, expected=145.240000\n",
      "predicted=135.344833, expected=140.520000\n",
      "predicted=144.104574, expected=138.130000\n",
      "predicted=129.855413, expected=135.190000\n",
      "predicted=136.637576, expected=130.900000\n",
      "predicted=124.980724, expected=130.590000\n",
      "predicted=129.796363, expected=130.690000\n",
      "predicted=127.990268, expected=126.000000\n",
      "predicted=121.659283, expected=126.940000\n",
      "predicted=127.086649, expected=129.000000\n",
      "predicted=122.373310, expected=128.550000\n",
      "predicted=131.360698, expected=129.010000\n",
      "predicted=120.144092, expected=123.630000\n",
      "predicted=127.611810, expected=114.130000\n",
      "predicted=103.828272, expected=132.180000\n",
      "predicted=138.899975, expected=133.000000\n",
      "predicted=122.146563, expected=137.340000\n",
      "predicted=142.447938, expected=134.780000\n",
      "predicted=124.433331, expected=133.780000\n",
      "predicted=138.218340, expected=128.380000\n",
      "predicted=120.952567, expected=128.220000\n",
      "predicted=129.952866, expected=127.250000\n",
      "predicted=121.760162, expected=125.950000\n",
      "predicted=124.053695, expected=129.120000\n",
      "predicted=128.166384, expected=127.430000\n",
      "predicted=122.812347, expected=127.040000\n"
     ]
    },
    {
     "name": "stderr",
     "output_type": "stream",
     "text": [
      "/opt/anaconda3/envs/forDA_kernel/lib/python3.7/site-packages/statsmodels/base/model.py:492: HessianInversionWarning: Inverting hessian failed, no bse or cov_params available\n",
      "  'available', HessianInversionWarning)\n"
     ]
    },
    {
     "name": "stdout",
     "output_type": "stream",
     "text": [
      "predicted=128.559013, expected=129.650000\n",
      "predicted=121.447123, expected=131.470000\n",
      "predicted=135.723572, expected=131.660000\n",
      "predicted=122.014945, expected=131.720000\n",
      "predicted=137.826280, expected=130.370000\n",
      "predicted=119.112320, expected=129.220000\n",
      "predicted=135.197786, expected=134.980000\n",
      "predicted=124.757617, expected=133.130000\n",
      "predicted=138.415626, expected=135.250000\n",
      "predicted=126.320930, expected=125.910000\n",
      "predicted=128.112125, expected=127.110000\n",
      "predicted=121.131877, expected=121.660000\n",
      "predicted=121.534673, expected=124.150000\n",
      "predicted=121.546018, expected=119.150000\n",
      "predicted=115.079498, expected=126.430000\n",
      "predicted=127.072373, expected=126.740000\n",
      "predicted=120.032284, expected=136.770000\n",
      "predicted=140.897706, expected=135.850000\n",
      "predicted=126.255509, expected=138.340000\n",
      "predicted=143.607521, expected=135.350000\n",
      "predicted=124.516492, expected=133.490000\n",
      "predicted=139.895155, expected=122.390000\n",
      "predicted=111.376833, expected=122.620000\n",
      "predicted=128.617290, expected=126.500000\n",
      "predicted=116.802657, expected=120.060000\n",
      "predicted=123.386158, expected=122.110000\n",
      "predicted=115.217038, expected=120.040000\n",
      "predicted=120.867951, expected=118.500000\n",
      "predicted=114.711925, expected=121.150000\n",
      "predicted=118.695211, expected=123.300000\n",
      "predicted=122.476335, expected=121.210000\n",
      "predicted=115.329453, expected=119.000000\n",
      "predicted=121.399462, expected=113.500000\n",
      "predicted=104.955256, expected=113.500000\n",
      "predicted=118.391695, expected=108.990000\n",
      "predicted=98.216338, expected=109.990000\n",
      "predicted=116.236175, expected=112.560000\n",
      "predicted=101.530701, expected=109.000000\n",
      "predicted=114.932675, expected=106.640000\n"
     ]
    },
    {
     "name": "stderr",
     "output_type": "stream",
     "text": [
      "/opt/anaconda3/envs/forDA_kernel/lib/python3.7/site-packages/statsmodels/base/model.py:492: HessianInversionWarning: Inverting hessian failed, no bse or cov_params available\n",
      "  'available', HessianInversionWarning)\n"
     ]
    },
    {
     "name": "stdout",
     "output_type": "stream",
     "text": [
      "predicted=96.089105, expected=105.000000\n",
      "predicted=109.854255, expected=103.000000\n",
      "predicted=94.440322, expected=102.800000\n",
      "predicted=105.365595, expected=103.000000\n",
      "predicted=97.032869, expected=106.750000\n",
      "predicted=106.474222, expected=106.750000\n",
      "predicted=103.895167, expected=106.220000\n",
      "predicted=102.526595, expected=105.140000\n",
      "predicted=105.651896, expected=104.000000\n",
      "predicted=97.222401, expected=104.500000\n",
      "predicted=107.877244, expected=104.000000\n",
      "predicted=94.633989, expected=106.090000\n",
      "predicted=111.589108, expected=107.990000\n",
      "predicted=97.303195, expected=101.200000\n",
      "predicted=106.989979, expected=99.760000\n",
      "predicted=89.092891, expected=94.120000\n",
      "predicted=99.584654, expected=96.020000\n",
      "predicted=86.711825, expected=96.900000\n",
      "predicted=100.687369, expected=94.510000\n",
      "predicted=86.744260, expected=95.560000\n",
      "predicted=97.048548, expected=91.610000\n",
      "predicted=86.721799, expected=90.760000\n",
      "predicted=89.632883, expected=89.390000\n",
      "predicted=87.531722, expected=92.170000\n",
      "predicted=87.696038, expected=90.580000\n",
      "predicted=91.473551, expected=98.500000\n",
      "predicted=91.947187, expected=97.450000\n",
      "predicted=100.699393, expected=98.400000\n",
      "predicted=89.343545, expected=94.690000\n",
      "predicted=99.286747, expected=98.130000\n",
      "predicted=88.551470, expected=93.590000\n",
      "predicted=98.915912, expected=88.980000\n",
      "predicted=78.855455, expected=86.760000\n",
      "predicted=91.395035, expected=76.690000\n",
      "predicted=67.245503, expected=76.520000\n",
      "predicted=80.513446, expected=74.560000\n",
      "predicted=67.250108, expected=70.280000\n",
      "predicted=71.123389, expected=68.430000\n",
      "predicted=63.610266, expected=80.530000\n",
      "predicted=79.791525, expected=77.530000\n",
      "predicted=75.429744, expected=90.130000\n",
      "predicted=86.678338, expected=88.050000\n",
      "predicted=87.881613, expected=96.610000\n",
      "predicted=90.827588, expected=94.990000\n",
      "predicted=97.724755, expected=94.650000\n",
      "predicted=86.627559, expected=101.440000\n",
      "predicted=106.210148, expected=104.000000\n",
      "predicted=94.178111, expected=103.950000\n",
      "predicted=109.316446, expected=102.740000\n"
     ]
    },
    {
     "name": "stderr",
     "output_type": "stream",
     "text": [
      "/opt/anaconda3/envs/forDA_kernel/lib/python3.7/site-packages/statsmodels/base/model.py:492: HessianInversionWarning: Inverting hessian failed, no bse or cov_params available\n",
      "  'available', HessianInversionWarning)\n"
     ]
    },
    {
     "name": "stdout",
     "output_type": "stream",
     "text": [
      "predicted=92.801526, expected=107.600000\n",
      "predicted=113.427047, expected=108.300000\n",
      "predicted=98.937759, expected=109.500000\n",
      "predicted=113.319011, expected=110.150000\n",
      "predicted=102.575304, expected=108.250000\n",
      "predicted=110.148258, expected=107.400000\n",
      "predicted=102.739942, expected=101.700000\n",
      "predicted=100.225679, expected=99.510000\n",
      "predicted=97.491917, expected=99.990000\n",
      "predicted=95.818879, expected=99.980000\n",
      "predicted=101.223196, expected=104.000000\n",
      "predicted=97.414213, expected=108.150000\n",
      "predicted=111.512117, expected=108.900000\n",
      "predicted=106.784530, expected=106.350000\n",
      "predicted=103.641819, expected=100.000000\n",
      "predicted=98.429730, expected=108.300000\n",
      "predicted=106.276722, expected=111.500000\n"
     ]
    },
    {
     "name": "stderr",
     "output_type": "stream",
     "text": [
      "/opt/anaconda3/envs/forDA_kernel/lib/python3.7/site-packages/statsmodels/tsa/tsatools.py:668: RuntimeWarning: overflow encountered in exp\n",
      "  newparams = ((1-np.exp(-params))/(1+np.exp(-params))).copy()\n",
      "/opt/anaconda3/envs/forDA_kernel/lib/python3.7/site-packages/statsmodels/tsa/tsatools.py:668: RuntimeWarning: invalid value encountered in true_divide\n",
      "  newparams = ((1-np.exp(-params))/(1+np.exp(-params))).copy()\n",
      "/opt/anaconda3/envs/forDA_kernel/lib/python3.7/site-packages/statsmodels/tsa/tsatools.py:669: RuntimeWarning: overflow encountered in exp\n",
      "  tmp = ((1-np.exp(-params))/(1+np.exp(-params))).copy()\n",
      "/opt/anaconda3/envs/forDA_kernel/lib/python3.7/site-packages/statsmodels/tsa/tsatools.py:669: RuntimeWarning: invalid value encountered in true_divide\n",
      "  tmp = ((1-np.exp(-params))/(1+np.exp(-params))).copy()\n"
     ]
    },
    {
     "name": "stdout",
     "output_type": "stream",
     "text": [
      "predicted=109.139876, expected=118.000000\n",
      "predicted=115.888614, expected=121.650000\n",
      "predicted=119.021406, expected=121.420000\n",
      "predicted=120.135374, expected=122.220000\n",
      "predicted=118.853390, expected=122.290000\n",
      "predicted=120.158409, expected=129.300000\n",
      "predicted=127.059820, expected=129.000000\n",
      "predicted=126.418132, expected=128.800000\n",
      "predicted=127.563692, expected=132.300000\n",
      "predicted=129.590100, expected=129.000000\n"
     ]
    },
    {
     "name": "stderr",
     "output_type": "stream",
     "text": [
      "/opt/anaconda3/envs/forDA_kernel/lib/python3.7/site-packages/statsmodels/base/model.py:492: HessianInversionWarning: Inverting hessian failed, no bse or cov_params available\n",
      "  'available', HessianInversionWarning)\n"
     ]
    },
    {
     "name": "stdout",
     "output_type": "stream",
     "text": [
      "predicted=119.600077, expected=129.740000\n",
      "predicted=127.082567, expected=133.480000\n",
      "predicted=131.083806, expected=131.980000\n",
      "predicted=130.430935, expected=133.200000\n",
      "predicted=123.745907, expected=126.700000\n",
      "predicted=124.595303, expected=123.890000\n",
      "predicted=122.088655, expected=122.880000\n",
      "predicted=120.618194, expected=122.000000\n",
      "predicted=118.171728, expected=121.990000\n",
      "predicted=119.168159, expected=123.500000\n",
      "predicted=121.030413, expected=123.010000\n",
      "predicted=120.368264, expected=118.760000\n",
      "predicted=117.551476, expected=114.220000\n",
      "predicted=111.361757, expected=111.500000\n",
      "predicted=109.025272, expected=117.980000\n",
      "predicted=116.141848, expected=115.000000\n",
      "predicted=111.937466, expected=115.240000\n",
      "predicted=113.345791, expected=117.200000\n",
      "predicted=114.737776, expected=112.670000\n",
      "predicted=110.936738, expected=113.570000\n",
      "predicted=111.254965, expected=111.500000\n",
      "predicted=108.690199, expected=112.300000\n",
      "predicted=110.017972, expected=115.910000\n",
      "predicted=113.568322, expected=112.500000\n",
      "predicted=110.870866, expected=97.750000\n",
      "predicted=94.480180, expected=105.210000\n"
     ]
    },
    {
     "name": "stderr",
     "output_type": "stream",
     "text": [
      "/opt/anaconda3/envs/forDA_kernel/lib/python3.7/site-packages/statsmodels/base/model.py:492: HessianInversionWarning: Inverting hessian failed, no bse or cov_params available\n",
      "  'available', HessianInversionWarning)\n"
     ]
    },
    {
     "name": "stdout",
     "output_type": "stream",
     "text": [
      "predicted=104.537611, expected=116.990000\n",
      "predicted=115.163125, expected=139.000000\n",
      "predicted=137.363560, expected=144.540000\n",
      "predicted=141.218261, expected=134.210000\n"
     ]
    }
   ],
   "source": [
    "from statsmodels.tsa.arima_model import ARIMA\n",
    "history = [x for x in data_for_rolling_arima_train]\n",
    "predictions = list()\n",
    "for t in range(2016, 2016+len(data_for_rolling_arima_test)):\n",
    "    rolling_arima_model = ARIMA(history, order=(5, 1, 5))\n",
    "    rolling_arima_model_fit = rolling_arima_model.fit(disp=0)\n",
    "    output = rolling_arima_model_fit.forecast()\n",
    "    yhat = output[0]\n",
    "    predictions.append(yhat)\n",
    "#     print(t)\n",
    "#     print(data_for_rolling_arima_test)\n",
    "    obs = data_for_rolling_arima_test[t]\n",
    "    history.append(obs)\n",
    "    print('predicted=%f, expected=%f' % (yhat, obs))"
   ]
  },
  {
   "cell_type": "code",
   "execution_count": 6,
   "metadata": {},
   "outputs": [
    {
     "name": "stdout",
     "output_type": "stream",
     "text": [
      "Test MSE: 1170.672\n",
      "R2 score: 0.984005\n"
     ]
    },
    {
     "data": {
      "image/png": "[encoded data removed]",
      "text/plain": [
       "<Figure size 1440x720 with 1 Axes>"
      ]
     },
     "metadata": {
      "needs_background": "light"
     },
     "output_type": "display_data"
    }
   ],
   "source": [
    "data_for_rolling_arima_test.reset_index(drop=True, inplace=True)\n",
    "error = mean_squared_error(data_for_rolling_arima_test, predictions)\n",
    "print('Test MSE: %.3f' % error)\n",
    "\n",
    "from sklearn.metrics import r2_score\n",
    "print('R2 score: %f' % r2_score(data_for_rolling_arima_test, predictions))\n",
    "pyplot.figure(figsize=(20,10)) \n",
    "\n",
    "pyplot.plot(data_for_rolling_arima_test)\n",
    "pyplot.plot(predictions, color='red')\n",
    "pyplot.show()"
   ]
  },
  {
   "cell_type": "code",
   "execution_count": null,
   "metadata": {},
   "outputs": [],
   "source": []
  }
 ],
 "metadata": {
  "kernelspec": {
   "display_name": "forDA",
   "language": "python",
   "name": "python3"
  },
  "language_info": {
   "codemirror_mode": {
    "name": "ipython",
    "version": 3
   },
   "file_extension": ".py",
   "mimetype": "text/x-python",
   "name": "python",
   "nbconvert_exporter": "python",
   "pygments_lexer": "ipython3",
   "version": "3.7.4"
  }
 },
 "nbformat": 4,
 "nbformat_minor": 2
}
